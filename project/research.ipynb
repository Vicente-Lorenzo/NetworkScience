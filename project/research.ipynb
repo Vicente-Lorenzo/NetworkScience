{
 "cells": [
  {
   "cell_type": "code",
   "execution_count": 72,
   "id": "initial_id",
   "metadata": {
    "collapsed": true,
    "ExecuteTime": {
     "end_time": "2023-10-08T22:16:43.608129400Z",
     "start_time": "2023-10-08T22:16:43.569723Z"
    }
   },
   "outputs": [],
   "source": [
    "import networkx as nx\n",
    "import numpy as np\n",
    "import pandas as pd\n",
    "import matplotlib.pyplot as plt"
   ]
  },
  {
   "cell_type": "code",
   "execution_count": 86,
   "outputs": [
    {
     "ename": "KeyError",
     "evalue": "'True: boolean label can not be used without a boolean index'",
     "output_type": "error",
     "traceback": [
      "\u001B[1;31m---------------------------------------------------------------------------\u001B[0m",
      "\u001B[1;31mKeyError\u001B[0m                                  Traceback (most recent call last)",
      "Cell \u001B[1;32mIn[86], line 3\u001B[0m\n\u001B[0;32m      1\u001B[0m airlines_data \u001B[38;5;241m=\u001B[39m pd\u001B[38;5;241m.\u001B[39mread_csv(\u001B[38;5;124m\"\u001B[39m\u001B[38;5;124mdata/airlines.csv\u001B[39m\u001B[38;5;124m\"\u001B[39m)\n\u001B[0;32m      2\u001B[0m airlines_data \u001B[38;5;241m=\u001B[39m airlines_data[[\u001B[38;5;124m\"\u001B[39m\u001B[38;5;124msrc_iata\u001B[39m\u001B[38;5;124m\"\u001B[39m, \u001B[38;5;124m\"\u001B[39m\u001B[38;5;124msrc_id\u001B[39m\u001B[38;5;124m\"\u001B[39m, \u001B[38;5;124m\"\u001B[39m\u001B[38;5;124mdest_iata\u001B[39m\u001B[38;5;124m\"\u001B[39m, \u001B[38;5;124m\"\u001B[39m\u001B[38;5;124mdest_id\u001B[39m\u001B[38;5;124m\"\u001B[39m]]\n\u001B[1;32m----> 3\u001B[0m airlines_data\u001B[38;5;241m.\u001B[39mloc[\u001B[38;5;129;01mnot\u001B[39;00m \u001B[38;5;28misinstance\u001B[39m(airlines_data[\u001B[38;5;124m\"\u001B[39m\u001B[38;5;124msrc_id\u001B[39m\u001B[38;5;124m\"\u001B[39m], np\u001B[38;5;241m.\u001B[39mint64)]\n",
      "File \u001B[1;32m~\\miniconda3\\envs\\ns\\Lib\\site-packages\\pandas\\core\\indexing.py:1103\u001B[0m, in \u001B[0;36m_LocationIndexer.__getitem__\u001B[1;34m(self, key)\u001B[0m\n\u001B[0;32m   1100\u001B[0m axis \u001B[38;5;241m=\u001B[39m \u001B[38;5;28mself\u001B[39m\u001B[38;5;241m.\u001B[39maxis \u001B[38;5;129;01mor\u001B[39;00m \u001B[38;5;241m0\u001B[39m\n\u001B[0;32m   1102\u001B[0m maybe_callable \u001B[38;5;241m=\u001B[39m com\u001B[38;5;241m.\u001B[39mapply_if_callable(key, \u001B[38;5;28mself\u001B[39m\u001B[38;5;241m.\u001B[39mobj)\n\u001B[1;32m-> 1103\u001B[0m \u001B[38;5;28;01mreturn\u001B[39;00m \u001B[38;5;28mself\u001B[39m\u001B[38;5;241m.\u001B[39m_getitem_axis(maybe_callable, axis\u001B[38;5;241m=\u001B[39maxis)\n",
      "File \u001B[1;32m~\\miniconda3\\envs\\ns\\Lib\\site-packages\\pandas\\core\\indexing.py:1342\u001B[0m, in \u001B[0;36m_LocIndexer._getitem_axis\u001B[1;34m(self, key, axis)\u001B[0m\n\u001B[0;32m   1339\u001B[0m         \u001B[38;5;28;01mreturn\u001B[39;00m \u001B[38;5;28mself\u001B[39m\u001B[38;5;241m.\u001B[39mobj\u001B[38;5;241m.\u001B[39miloc[\u001B[38;5;28mtuple\u001B[39m(indexer)]\n\u001B[0;32m   1341\u001B[0m \u001B[38;5;66;03m# fall thru to straight lookup\u001B[39;00m\n\u001B[1;32m-> 1342\u001B[0m \u001B[38;5;28mself\u001B[39m\u001B[38;5;241m.\u001B[39m_validate_key(key, axis)\n\u001B[0;32m   1343\u001B[0m \u001B[38;5;28;01mreturn\u001B[39;00m \u001B[38;5;28mself\u001B[39m\u001B[38;5;241m.\u001B[39m_get_label(key, axis\u001B[38;5;241m=\u001B[39maxis)\n",
      "File \u001B[1;32m~\\miniconda3\\envs\\ns\\Lib\\site-packages\\pandas\\core\\indexing.py:1151\u001B[0m, in \u001B[0;36m_LocIndexer._validate_key\u001B[1;34m(self, key, axis)\u001B[0m\n\u001B[0;32m   1144\u001B[0m ax \u001B[38;5;241m=\u001B[39m \u001B[38;5;28mself\u001B[39m\u001B[38;5;241m.\u001B[39mobj\u001B[38;5;241m.\u001B[39m_get_axis(axis)\n\u001B[0;32m   1145\u001B[0m \u001B[38;5;28;01mif\u001B[39;00m \u001B[38;5;28misinstance\u001B[39m(key, \u001B[38;5;28mbool\u001B[39m) \u001B[38;5;129;01mand\u001B[39;00m \u001B[38;5;129;01mnot\u001B[39;00m (\n\u001B[0;32m   1146\u001B[0m     is_bool_dtype(ax)\n\u001B[0;32m   1147\u001B[0m     \u001B[38;5;129;01mor\u001B[39;00m ax\u001B[38;5;241m.\u001B[39mdtype\u001B[38;5;241m.\u001B[39mname \u001B[38;5;241m==\u001B[39m \u001B[38;5;124m\"\u001B[39m\u001B[38;5;124mboolean\u001B[39m\u001B[38;5;124m\"\u001B[39m\n\u001B[0;32m   1148\u001B[0m     \u001B[38;5;129;01mor\u001B[39;00m \u001B[38;5;28misinstance\u001B[39m(ax, MultiIndex)\n\u001B[0;32m   1149\u001B[0m     \u001B[38;5;129;01mand\u001B[39;00m is_bool_dtype(ax\u001B[38;5;241m.\u001B[39mget_level_values(\u001B[38;5;241m0\u001B[39m))\n\u001B[0;32m   1150\u001B[0m ):\n\u001B[1;32m-> 1151\u001B[0m     \u001B[38;5;28;01mraise\u001B[39;00m \u001B[38;5;167;01mKeyError\u001B[39;00m(\n\u001B[0;32m   1152\u001B[0m         \u001B[38;5;124mf\u001B[39m\u001B[38;5;124m\"\u001B[39m\u001B[38;5;132;01m{\u001B[39;00mkey\u001B[38;5;132;01m}\u001B[39;00m\u001B[38;5;124m: boolean label can not be used without a boolean index\u001B[39m\u001B[38;5;124m\"\u001B[39m\n\u001B[0;32m   1153\u001B[0m     )\n\u001B[0;32m   1155\u001B[0m \u001B[38;5;28;01mif\u001B[39;00m \u001B[38;5;28misinstance\u001B[39m(key, \u001B[38;5;28mslice\u001B[39m) \u001B[38;5;129;01mand\u001B[39;00m (\n\u001B[0;32m   1156\u001B[0m     \u001B[38;5;28misinstance\u001B[39m(key\u001B[38;5;241m.\u001B[39mstart, \u001B[38;5;28mbool\u001B[39m) \u001B[38;5;129;01mor\u001B[39;00m \u001B[38;5;28misinstance\u001B[39m(key\u001B[38;5;241m.\u001B[39mstop, \u001B[38;5;28mbool\u001B[39m)\n\u001B[0;32m   1157\u001B[0m ):\n\u001B[0;32m   1158\u001B[0m     \u001B[38;5;28;01mraise\u001B[39;00m \u001B[38;5;167;01mTypeError\u001B[39;00m(\u001B[38;5;124mf\u001B[39m\u001B[38;5;124m\"\u001B[39m\u001B[38;5;132;01m{\u001B[39;00mkey\u001B[38;5;132;01m}\u001B[39;00m\u001B[38;5;124m: boolean values can not be used in a slice\u001B[39m\u001B[38;5;124m\"\u001B[39m)\n",
      "\u001B[1;31mKeyError\u001B[0m: 'True: boolean label can not be used without a boolean index'"
     ]
    }
   ],
   "source": [
    "airlines_data = pd.read_csv(\"data/airlines.csv\")\n",
    "airlines_data = airlines_data[[\"src_iata\", \"src_id\", \"dest_iata\", \"dest_id\"]]\n",
    "airlines_data"
   ],
   "metadata": {
    "collapsed": false,
    "ExecuteTime": {
     "end_time": "2023-10-08T22:24:12.704425Z",
     "start_time": "2023-10-08T22:24:12.584445300Z"
    }
   },
   "id": "fb313c868d76333d"
  },
  {
   "cell_type": "code",
   "execution_count": 66,
   "outputs": [
    {
     "name": "stdout",
     "output_type": "stream",
     "text": [
      "<class 'pandas.core.frame.DataFrame'>\n",
      "RangeIndex: 7698 entries, 0 to 7697\n",
      "Data columns (total 5 columns):\n",
      " #   Column     Non-Null Count  Dtype  \n",
      "---  ------     --------------  -----  \n",
      " 0   id         7698 non-null   int64  \n",
      " 1   iata       7698 non-null   object \n",
      " 2   latitude   7698 non-null   float64\n",
      " 3   longitude  7698 non-null   float64\n",
      " 4   altitude   7698 non-null   int64  \n",
      "dtypes: float64(2), int64(2), object(1)\n",
      "memory usage: 300.8+ KB\n"
     ]
    }
   ],
   "source": [
    "airports_data = pd.read_csv(\"data/airports.csv\")\n",
    "airports_data = airports_data[[\"id\", \"iata\", \"latitude\", \"longitude\", \"altitude\"]]\n",
    "airports_data"
   ],
   "metadata": {
    "collapsed": false,
    "ExecuteTime": {
     "end_time": "2023-10-08T22:10:13.734215200Z",
     "start_time": "2023-10-08T22:10:13.689334800Z"
    }
   },
   "id": "5bd26bffddbe1a22"
  },
  {
   "cell_type": "code",
   "execution_count": 62,
   "outputs": [
    {
     "ename": "ValueError",
     "evalue": "You are trying to merge on object and int64 columns. If you wish to proceed you should use pd.concat",
     "output_type": "error",
     "traceback": [
      "\u001B[1;31m---------------------------------------------------------------------------\u001B[0m",
      "\u001B[1;31mValueError\u001B[0m                                Traceback (most recent call last)",
      "Cell \u001B[1;32mIn[62], line 1\u001B[0m\n\u001B[1;32m----> 1\u001B[0m merged_src \u001B[38;5;241m=\u001B[39m pd\u001B[38;5;241m.\u001B[39mmerge(airlines_data, airports_data, left_on\u001B[38;5;241m=\u001B[39m\u001B[38;5;124m'\u001B[39m\u001B[38;5;124msrc_id\u001B[39m\u001B[38;5;124m'\u001B[39m, right_on\u001B[38;5;241m=\u001B[39m\u001B[38;5;124m'\u001B[39m\u001B[38;5;124mid\u001B[39m\u001B[38;5;124m'\u001B[39m, how\u001B[38;5;241m=\u001B[39m\u001B[38;5;124m'\u001B[39m\u001B[38;5;124mleft\u001B[39m\u001B[38;5;124m'\u001B[39m, suffixes\u001B[38;5;241m=\u001B[39m(\u001B[38;5;124m'\u001B[39m\u001B[38;5;124m_src\u001B[39m\u001B[38;5;124m'\u001B[39m,\u001B[38;5;124m'\u001B[39m\u001B[38;5;124m_airports_src\u001B[39m\u001B[38;5;124m'\u001B[39m))\n",
      "File \u001B[1;32m~\\miniconda3\\envs\\ns\\Lib\\site-packages\\pandas\\core\\reshape\\merge.py:148\u001B[0m, in \u001B[0;36mmerge\u001B[1;34m(left, right, how, on, left_on, right_on, left_index, right_index, sort, suffixes, copy, indicator, validate)\u001B[0m\n\u001B[0;32m    131\u001B[0m \u001B[38;5;129m@Substitution\u001B[39m(\u001B[38;5;124m\"\u001B[39m\u001B[38;5;130;01m\\n\u001B[39;00m\u001B[38;5;124mleft : DataFrame or named Series\u001B[39m\u001B[38;5;124m\"\u001B[39m)\n\u001B[0;32m    132\u001B[0m \u001B[38;5;129m@Appender\u001B[39m(_merge_doc, indents\u001B[38;5;241m=\u001B[39m\u001B[38;5;241m0\u001B[39m)\n\u001B[0;32m    133\u001B[0m \u001B[38;5;28;01mdef\u001B[39;00m \u001B[38;5;21mmerge\u001B[39m(\n\u001B[1;32m   (...)\u001B[0m\n\u001B[0;32m    146\u001B[0m     validate: \u001B[38;5;28mstr\u001B[39m \u001B[38;5;241m|\u001B[39m \u001B[38;5;28;01mNone\u001B[39;00m \u001B[38;5;241m=\u001B[39m \u001B[38;5;28;01mNone\u001B[39;00m,\n\u001B[0;32m    147\u001B[0m ) \u001B[38;5;241m-\u001B[39m\u001B[38;5;241m>\u001B[39m DataFrame:\n\u001B[1;32m--> 148\u001B[0m     op \u001B[38;5;241m=\u001B[39m _MergeOperation(\n\u001B[0;32m    149\u001B[0m         left,\n\u001B[0;32m    150\u001B[0m         right,\n\u001B[0;32m    151\u001B[0m         how\u001B[38;5;241m=\u001B[39mhow,\n\u001B[0;32m    152\u001B[0m         on\u001B[38;5;241m=\u001B[39mon,\n\u001B[0;32m    153\u001B[0m         left_on\u001B[38;5;241m=\u001B[39mleft_on,\n\u001B[0;32m    154\u001B[0m         right_on\u001B[38;5;241m=\u001B[39mright_on,\n\u001B[0;32m    155\u001B[0m         left_index\u001B[38;5;241m=\u001B[39mleft_index,\n\u001B[0;32m    156\u001B[0m         right_index\u001B[38;5;241m=\u001B[39mright_index,\n\u001B[0;32m    157\u001B[0m         sort\u001B[38;5;241m=\u001B[39msort,\n\u001B[0;32m    158\u001B[0m         suffixes\u001B[38;5;241m=\u001B[39msuffixes,\n\u001B[0;32m    159\u001B[0m         indicator\u001B[38;5;241m=\u001B[39mindicator,\n\u001B[0;32m    160\u001B[0m         validate\u001B[38;5;241m=\u001B[39mvalidate,\n\u001B[0;32m    161\u001B[0m     )\n\u001B[0;32m    162\u001B[0m     \u001B[38;5;28;01mreturn\u001B[39;00m op\u001B[38;5;241m.\u001B[39mget_result(copy\u001B[38;5;241m=\u001B[39mcopy)\n",
      "File \u001B[1;32m~\\miniconda3\\envs\\ns\\Lib\\site-packages\\pandas\\core\\reshape\\merge.py:741\u001B[0m, in \u001B[0;36m_MergeOperation.__init__\u001B[1;34m(self, left, right, how, on, left_on, right_on, axis, left_index, right_index, sort, suffixes, indicator, validate)\u001B[0m\n\u001B[0;32m    733\u001B[0m (\n\u001B[0;32m    734\u001B[0m     \u001B[38;5;28mself\u001B[39m\u001B[38;5;241m.\u001B[39mleft_join_keys,\n\u001B[0;32m    735\u001B[0m     \u001B[38;5;28mself\u001B[39m\u001B[38;5;241m.\u001B[39mright_join_keys,\n\u001B[0;32m    736\u001B[0m     \u001B[38;5;28mself\u001B[39m\u001B[38;5;241m.\u001B[39mjoin_names,\n\u001B[0;32m    737\u001B[0m ) \u001B[38;5;241m=\u001B[39m \u001B[38;5;28mself\u001B[39m\u001B[38;5;241m.\u001B[39m_get_merge_keys()\n\u001B[0;32m    739\u001B[0m \u001B[38;5;66;03m# validate the merge keys dtypes. We may need to coerce\u001B[39;00m\n\u001B[0;32m    740\u001B[0m \u001B[38;5;66;03m# to avoid incompatible dtypes\u001B[39;00m\n\u001B[1;32m--> 741\u001B[0m \u001B[38;5;28mself\u001B[39m\u001B[38;5;241m.\u001B[39m_maybe_coerce_merge_keys()\n\u001B[0;32m    743\u001B[0m \u001B[38;5;66;03m# If argument passed to validate,\u001B[39;00m\n\u001B[0;32m    744\u001B[0m \u001B[38;5;66;03m# check if columns specified as unique\u001B[39;00m\n\u001B[0;32m    745\u001B[0m \u001B[38;5;66;03m# are in fact unique.\u001B[39;00m\n\u001B[0;32m    746\u001B[0m \u001B[38;5;28;01mif\u001B[39;00m validate \u001B[38;5;129;01mis\u001B[39;00m \u001B[38;5;129;01mnot\u001B[39;00m \u001B[38;5;28;01mNone\u001B[39;00m:\n",
      "File \u001B[1;32m~\\miniconda3\\envs\\ns\\Lib\\site-packages\\pandas\\core\\reshape\\merge.py:1401\u001B[0m, in \u001B[0;36m_MergeOperation._maybe_coerce_merge_keys\u001B[1;34m(self)\u001B[0m\n\u001B[0;32m   1395\u001B[0m     \u001B[38;5;66;03m# unless we are merging non-string-like with string-like\u001B[39;00m\n\u001B[0;32m   1396\u001B[0m     \u001B[38;5;28;01melif\u001B[39;00m (\n\u001B[0;32m   1397\u001B[0m         inferred_left \u001B[38;5;129;01min\u001B[39;00m string_types \u001B[38;5;129;01mand\u001B[39;00m inferred_right \u001B[38;5;129;01mnot\u001B[39;00m \u001B[38;5;129;01min\u001B[39;00m string_types\n\u001B[0;32m   1398\u001B[0m     ) \u001B[38;5;129;01mor\u001B[39;00m (\n\u001B[0;32m   1399\u001B[0m         inferred_right \u001B[38;5;129;01min\u001B[39;00m string_types \u001B[38;5;129;01mand\u001B[39;00m inferred_left \u001B[38;5;129;01mnot\u001B[39;00m \u001B[38;5;129;01min\u001B[39;00m string_types\n\u001B[0;32m   1400\u001B[0m     ):\n\u001B[1;32m-> 1401\u001B[0m         \u001B[38;5;28;01mraise\u001B[39;00m \u001B[38;5;167;01mValueError\u001B[39;00m(msg)\n\u001B[0;32m   1403\u001B[0m \u001B[38;5;66;03m# datetimelikes must match exactly\u001B[39;00m\n\u001B[0;32m   1404\u001B[0m \u001B[38;5;28;01melif\u001B[39;00m needs_i8_conversion(lk\u001B[38;5;241m.\u001B[39mdtype) \u001B[38;5;129;01mand\u001B[39;00m \u001B[38;5;129;01mnot\u001B[39;00m needs_i8_conversion(rk\u001B[38;5;241m.\u001B[39mdtype):\n",
      "\u001B[1;31mValueError\u001B[0m: You are trying to merge on object and int64 columns. If you wish to proceed you should use pd.concat"
     ]
    }
   ],
   "source": [
    "merged_src = pd.merge(airlines_data, airports_data, left_on='src_id', right_on='id', how='left', suffixes=('_src','_airports_src'))\n"
   ],
   "metadata": {
    "collapsed": false,
    "ExecuteTime": {
     "end_time": "2023-10-08T22:09:01.565703700Z",
     "start_time": "2023-10-08T22:09:01.275700400Z"
    }
   },
   "id": "7b2e2eabc732b1fa"
  },
  {
   "cell_type": "code",
   "execution_count": 61,
   "outputs": [
    {
     "ename": "KeyboardInterrupt",
     "evalue": "",
     "output_type": "error",
     "traceback": [
      "\u001B[1;31m---------------------------------------------------------------------------\u001B[0m",
      "\u001B[1;31mKeyboardInterrupt\u001B[0m                         Traceback (most recent call last)",
      "Cell \u001B[1;32mIn[61], line 3\u001B[0m\n\u001B[0;32m      1\u001B[0m G \u001B[38;5;241m=\u001B[39m nx\u001B[38;5;241m.\u001B[39mDiGraph()\n\u001B[1;32m----> 3\u001B[0m \u001B[38;5;28;01mfor\u001B[39;00m _, row \u001B[38;5;129;01min\u001B[39;00m data\u001B[38;5;241m.\u001B[39miterrows():\n\u001B[0;32m      4\u001B[0m     G\u001B[38;5;241m.\u001B[39madd_edge(row[\u001B[38;5;124m'\u001B[39m\u001B[38;5;124msrc_name\u001B[39m\u001B[38;5;124m'\u001B[39m], row[\u001B[38;5;124m'\u001B[39m\u001B[38;5;124mdest_name\u001B[39m\u001B[38;5;124m'\u001B[39m], src_id\u001B[38;5;241m=\u001B[39mrow[\u001B[38;5;124m'\u001B[39m\u001B[38;5;124msrc_id\u001B[39m\u001B[38;5;124m'\u001B[39m], dest_id\u001B[38;5;241m=\u001B[39mrow[\u001B[38;5;124m'\u001B[39m\u001B[38;5;124mdest_id\u001B[39m\u001B[38;5;124m'\u001B[39m])\n\u001B[0;32m      6\u001B[0m nx\u001B[38;5;241m.\u001B[39mdraw(G, with_labels\u001B[38;5;241m=\u001B[39m\u001B[38;5;28;01mTrue\u001B[39;00m)\n",
      "File \u001B[1;32m~\\miniconda3\\envs\\ns\\Lib\\site-packages\\pandas\\core\\frame.py:1400\u001B[0m, in \u001B[0;36mDataFrame.iterrows\u001B[1;34m(self)\u001B[0m\n\u001B[0;32m   1398\u001B[0m using_cow \u001B[38;5;241m=\u001B[39m using_copy_on_write()\n\u001B[0;32m   1399\u001B[0m \u001B[38;5;28;01mfor\u001B[39;00m k, v \u001B[38;5;129;01min\u001B[39;00m \u001B[38;5;28mzip\u001B[39m(\u001B[38;5;28mself\u001B[39m\u001B[38;5;241m.\u001B[39mindex, \u001B[38;5;28mself\u001B[39m\u001B[38;5;241m.\u001B[39mvalues):\n\u001B[1;32m-> 1400\u001B[0m     s \u001B[38;5;241m=\u001B[39m klass(v, index\u001B[38;5;241m=\u001B[39mcolumns, name\u001B[38;5;241m=\u001B[39mk)\u001B[38;5;241m.\u001B[39m__finalize__(\u001B[38;5;28mself\u001B[39m)\n\u001B[0;32m   1401\u001B[0m     \u001B[38;5;28;01mif\u001B[39;00m using_cow \u001B[38;5;129;01mand\u001B[39;00m \u001B[38;5;28mself\u001B[39m\u001B[38;5;241m.\u001B[39m_mgr\u001B[38;5;241m.\u001B[39mis_single_block:\n\u001B[0;32m   1402\u001B[0m         s\u001B[38;5;241m.\u001B[39m_mgr\u001B[38;5;241m.\u001B[39madd_references(\u001B[38;5;28mself\u001B[39m\u001B[38;5;241m.\u001B[39m_mgr)  \u001B[38;5;66;03m# type: ignore[arg-type]\u001B[39;00m\n",
      "File \u001B[1;32m~\\miniconda3\\envs\\ns\\Lib\\site-packages\\pandas\\core\\series.py:509\u001B[0m, in \u001B[0;36mSeries.__init__\u001B[1;34m(self, data, index, dtype, name, copy, fastpath)\u001B[0m\n\u001B[0;32m    507\u001B[0m         data \u001B[38;5;241m=\u001B[39m data\u001B[38;5;241m.\u001B[39mcopy()\n\u001B[0;32m    508\u001B[0m \u001B[38;5;28;01melse\u001B[39;00m:\n\u001B[1;32m--> 509\u001B[0m     data \u001B[38;5;241m=\u001B[39m sanitize_array(data, index, dtype, copy)\n\u001B[0;32m    511\u001B[0m     manager \u001B[38;5;241m=\u001B[39m get_option(\u001B[38;5;124m\"\u001B[39m\u001B[38;5;124mmode.data_manager\u001B[39m\u001B[38;5;124m\"\u001B[39m)\n\u001B[0;32m    512\u001B[0m     \u001B[38;5;28;01mif\u001B[39;00m manager \u001B[38;5;241m==\u001B[39m \u001B[38;5;124m\"\u001B[39m\u001B[38;5;124mblock\u001B[39m\u001B[38;5;124m\"\u001B[39m:\n",
      "File \u001B[1;32m~\\miniconda3\\envs\\ns\\Lib\\site-packages\\pandas\\core\\construction.py:527\u001B[0m, in \u001B[0;36msanitize_array\u001B[1;34m(data, index, dtype, copy, allow_2d)\u001B[0m\n\u001B[0;32m    524\u001B[0m     dtype \u001B[38;5;241m=\u001B[39m dtype\u001B[38;5;241m.\u001B[39mnumpy_dtype\n\u001B[0;32m    526\u001B[0m \u001B[38;5;66;03m# extract ndarray or ExtensionArray, ensure we have no PandasArray\u001B[39;00m\n\u001B[1;32m--> 527\u001B[0m data \u001B[38;5;241m=\u001B[39m extract_array(data, extract_numpy\u001B[38;5;241m=\u001B[39m\u001B[38;5;28;01mTrue\u001B[39;00m, extract_range\u001B[38;5;241m=\u001B[39m\u001B[38;5;28;01mTrue\u001B[39;00m)\n\u001B[0;32m    529\u001B[0m \u001B[38;5;28;01mif\u001B[39;00m \u001B[38;5;28misinstance\u001B[39m(data, np\u001B[38;5;241m.\u001B[39mndarray) \u001B[38;5;129;01mand\u001B[39;00m data\u001B[38;5;241m.\u001B[39mndim \u001B[38;5;241m==\u001B[39m \u001B[38;5;241m0\u001B[39m:\n\u001B[0;32m    530\u001B[0m     \u001B[38;5;28;01mif\u001B[39;00m dtype \u001B[38;5;129;01mis\u001B[39;00m \u001B[38;5;28;01mNone\u001B[39;00m:\n",
      "File \u001B[1;32m~\\miniconda3\\envs\\ns\\Lib\\site-packages\\pandas\\core\\construction.py:396\u001B[0m, in \u001B[0;36mextract_array\u001B[1;34m(obj, extract_numpy, extract_range)\u001B[0m\n\u001B[0;32m    389\u001B[0m \u001B[38;5;129m@overload\u001B[39m\n\u001B[0;32m    390\u001B[0m \u001B[38;5;28;01mdef\u001B[39;00m \u001B[38;5;21mextract_array\u001B[39m(\n\u001B[0;32m    391\u001B[0m     obj: T, extract_numpy: \u001B[38;5;28mbool\u001B[39m \u001B[38;5;241m=\u001B[39m \u001B[38;5;241m.\u001B[39m\u001B[38;5;241m.\u001B[39m\u001B[38;5;241m.\u001B[39m, extract_range: \u001B[38;5;28mbool\u001B[39m \u001B[38;5;241m=\u001B[39m \u001B[38;5;241m.\u001B[39m\u001B[38;5;241m.\u001B[39m\u001B[38;5;241m.\u001B[39m\n\u001B[0;32m    392\u001B[0m ) \u001B[38;5;241m-\u001B[39m\u001B[38;5;241m>\u001B[39m T \u001B[38;5;241m|\u001B[39m ArrayLike:\n\u001B[0;32m    393\u001B[0m     \u001B[38;5;241m.\u001B[39m\u001B[38;5;241m.\u001B[39m\u001B[38;5;241m.\u001B[39m\n\u001B[1;32m--> 396\u001B[0m \u001B[38;5;28;01mdef\u001B[39;00m \u001B[38;5;21mextract_array\u001B[39m(\n\u001B[0;32m    397\u001B[0m     obj: T, extract_numpy: \u001B[38;5;28mbool\u001B[39m \u001B[38;5;241m=\u001B[39m \u001B[38;5;28;01mFalse\u001B[39;00m, extract_range: \u001B[38;5;28mbool\u001B[39m \u001B[38;5;241m=\u001B[39m \u001B[38;5;28;01mFalse\u001B[39;00m\n\u001B[0;32m    398\u001B[0m ) \u001B[38;5;241m-\u001B[39m\u001B[38;5;241m>\u001B[39m T \u001B[38;5;241m|\u001B[39m ArrayLike:\n\u001B[0;32m    399\u001B[0m \u001B[38;5;250m    \u001B[39m\u001B[38;5;124;03m\"\"\"\u001B[39;00m\n\u001B[0;32m    400\u001B[0m \u001B[38;5;124;03m    Extract the ndarray or ExtensionArray from a Series or Index.\u001B[39;00m\n\u001B[0;32m    401\u001B[0m \n\u001B[1;32m   (...)\u001B[0m\n\u001B[0;32m    439\u001B[0m \u001B[38;5;124;03m    array([1, 2, 3])\u001B[39;00m\n\u001B[0;32m    440\u001B[0m \u001B[38;5;124;03m    \"\"\"\u001B[39;00m\n\u001B[0;32m    441\u001B[0m     \u001B[38;5;28;01mif\u001B[39;00m \u001B[38;5;28misinstance\u001B[39m(obj, (ABCIndex, ABCSeries)):\n",
      "\u001B[1;31mKeyboardInterrupt\u001B[0m: "
     ]
    }
   ],
   "source": [
    "G = nx.DiGraph()\n",
    "\n",
    "for _, row in data.iterrows():\n",
    "    G.add_edge(row['src_name'], row['dest_name'], src_id=row['src_id'], dest_id=row['dest_id'])\n",
    "\n",
    "nx.draw(G, with_labels=True)\n",
    "plt.show()"
   ],
   "metadata": {
    "collapsed": false,
    "ExecuteTime": {
     "end_time": "2023-10-08T22:05:23.044282400Z",
     "start_time": "2023-10-08T22:05:19.216353300Z"
    }
   },
   "id": "7a0814ccf5c7fff7"
  }
 ],
 "metadata": {
  "kernelspec": {
   "display_name": "Python 3",
   "language": "python",
   "name": "python3"
  },
  "language_info": {
   "codemirror_mode": {
    "name": "ipython",
    "version": 2
   },
   "file_extension": ".py",
   "mimetype": "text/x-python",
   "name": "python",
   "nbconvert_exporter": "python",
   "pygments_lexer": "ipython2",
   "version": "2.7.6"
  }
 },
 "nbformat": 4,
 "nbformat_minor": 5
}
