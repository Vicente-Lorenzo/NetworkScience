{
 "cells": [
  {
   "cell_type": "code",
   "execution_count": 1,
   "id": "initial_id",
   "metadata": {
    "collapsed": true,
    "ExecuteTime": {
     "end_time": "2023-10-14T17:58:59.189064600Z",
     "start_time": "2023-10-14T17:58:56.250525600Z"
    }
   },
   "outputs": [],
   "source": [
    "import folium\n",
    "import numpy as np\n",
    "import pandas as pd\n",
    "import networkx as nx\n",
    "import matplotlib.pyplot as plt"
   ]
  },
  {
   "cell_type": "markdown",
   "source": [
    "---\n",
    "# Data Import\n",
    "---"
   ],
   "metadata": {
    "collapsed": false
   },
   "id": "6db800eb7ba3b1ae"
  },
  {
   "cell_type": "markdown",
   "source": [
    "### Read the airlines data with all the flights from src to dest"
   ],
   "metadata": {
    "collapsed": false
   },
   "id": "6f6bc4c350606ef8"
  },
  {
   "cell_type": "code",
   "execution_count": 2,
   "outputs": [
    {
     "name": "stdout",
     "output_type": "stream",
     "text": [
      "<class 'pandas.core.frame.DataFrame'>\n",
      "RangeIndex: 67663 entries, 0 to 67662\n",
      "Data columns (total 4 columns):\n",
      " #   Column     Non-Null Count  Dtype \n",
      "---  ------     --------------  ----- \n",
      " 0   src_name   67663 non-null  object\n",
      " 1   src_id     67663 non-null  object\n",
      " 2   dest_name  67663 non-null  object\n",
      " 3   dest_id    67663 non-null  object\n",
      "dtypes: object(4)\n",
      "memory usage: 2.1+ MB\n"
     ]
    }
   ],
   "source": [
    "airlines_data = pd.read_csv(\"data/airlines.csv\")\n",
    "airlines_data = airlines_data[[\"src_name\", \"src_id\", \"dest_name\", \"dest_id\"]]\n",
    "airlines_data.info()"
   ],
   "metadata": {
    "collapsed": false,
    "ExecuteTime": {
     "end_time": "2023-10-14T17:58:59.375279600Z",
     "start_time": "2023-10-14T17:58:59.189064600Z"
    }
   },
   "id": "fb313c868d76333d"
  },
  {
   "cell_type": "markdown",
   "source": [
    "### Read aiports data with corresponding latitude, longitude and altitude"
   ],
   "metadata": {
    "collapsed": false
   },
   "id": "1667696e2a10b342"
  },
  {
   "cell_type": "code",
   "execution_count": 3,
   "outputs": [
    {
     "name": "stdout",
     "output_type": "stream",
     "text": [
      "<class 'pandas.core.frame.DataFrame'>\n",
      "RangeIndex: 12668 entries, 0 to 12667\n",
      "Data columns (total 4 columns):\n",
      " #   Column     Non-Null Count  Dtype  \n",
      "---  ------     --------------  -----  \n",
      " 0   id         12668 non-null  int64  \n",
      " 1   name       12668 non-null  object \n",
      " 2   latitude   12668 non-null  float64\n",
      " 3   longitude  12668 non-null  float64\n",
      "dtypes: float64(2), int64(1), object(1)\n",
      "memory usage: 396.0+ KB\n"
     ]
    }
   ],
   "source": [
    "airports_data = pd.read_csv(\"data/airports.csv\")\n",
    "airports_data = airports_data[[\"id\", \"name\", \"latitude\", \"longitude\"]]\n",
    "airports_data.info()"
   ],
   "metadata": {
    "collapsed": false,
    "ExecuteTime": {
     "end_time": "2023-10-14T17:58:59.480544200Z",
     "start_time": "2023-10-14T17:58:59.375279600Z"
    }
   },
   "id": "5bd26bffddbe1a22"
  },
  {
   "cell_type": "markdown",
   "source": [
    "---\n",
    "# Data Processing and Cleaning\n",
    "---"
   ],
   "metadata": {
    "collapsed": false
   },
   "id": "1f49f2d1e5472fa6"
  },
  {
   "cell_type": "markdown",
   "source": [
    "### Fill the \"\\N\" values of the airlines dataset and cast object columns to int64"
   ],
   "metadata": {
    "collapsed": false
   },
   "id": "cfef7629759d6e81"
  },
  {
   "cell_type": "code",
   "execution_count": 4,
   "outputs": [
    {
     "name": "stdout",
     "output_type": "stream",
     "text": [
      "<class 'pandas.core.frame.DataFrame'>\n",
      "Index: 67572 entries, 0 to 67662\n",
      "Data columns (total 4 columns):\n",
      " #   Column     Non-Null Count  Dtype \n",
      "---  ------     --------------  ----- \n",
      " 0   src_name   67572 non-null  object\n",
      " 1   src_id     67572 non-null  int64 \n",
      " 2   dest_name  67572 non-null  object\n",
      " 3   dest_id    67572 non-null  int64 \n",
      "dtypes: int64(2), object(2)\n",
      "memory usage: 2.6+ MB\n"
     ]
    }
   ],
   "source": [
    "name_to_id_mapping = pd.Series(airports_data[\"id\"].values, index=airports_data[\"name\"]).to_dict()\n",
    "airlines_data.replace({\"\\\\N\": pd.NA}, inplace=True)\n",
    "airlines_data[\"src_id\"] = airlines_data[\"src_id\"].fillna(airlines_data[\"src_name\"].map(name_to_id_mapping))\n",
    "airlines_data[\"dest_id\"] = airlines_data[\"dest_id\"].fillna(airlines_data[\"dest_name\"].map(name_to_id_mapping))\n",
    "airlines_data.dropna(inplace=True)\n",
    "airlines_data[\"src_id\"] = airlines_data[\"src_id\"].astype(np.int64)\n",
    "airlines_data[\"dest_id\"] = airlines_data[\"dest_id\"].astype(np.int64)\n",
    "airlines_data.info()"
   ],
   "metadata": {
    "collapsed": false,
    "ExecuteTime": {
     "end_time": "2023-10-14T17:58:59.687743500Z",
     "start_time": "2023-10-14T17:58:59.480544200Z"
    }
   },
   "id": "e8b50c3449bc4c4c"
  },
  {
   "cell_type": "markdown",
   "source": [
    "### Merge the datasets and get the latitude and longitude for both source and destination airports"
   ],
   "metadata": {
    "collapsed": false
   },
   "id": "9d6a5e4981f82c0a"
  },
  {
   "cell_type": "code",
   "execution_count": 5,
   "outputs": [
    {
     "data": {
      "text/plain": "       src_id src_name  src_latitude  src_longitude  dest_id dest_name  \\\n0        2965      AER     43.449902      39.956600     2990       KZN   \n1        2966      ASF     46.283298      48.006302     2990       KZN   \n2        2966      ASF     46.283298      48.006302     2962       MRV   \n3        2968      CEK     55.305801      61.503300     2990       KZN   \n4        2968      CEK     55.305801      61.503300     4078       OVB   \n...       ...      ...           ...            ...      ...       ...   \n67567    6334      WYA    -33.058899     137.514008     3341       ADL   \n67568    4029      DME     55.408798      37.906300     2912       FRU   \n67569    2912      FRU     43.061298      74.477600     4029       DME   \n67570    2912      FRU     43.061298      74.477600     2913       OSS   \n67571    2913      OSS     40.609001      72.793297     2912       FRU   \n\n       dest_latitude  dest_longitude  \n0          55.606201       49.278702  \n1          55.606201       49.278702  \n2          44.225101       43.081902  \n3          55.606201       49.278702  \n4          55.012600       82.650703  \n...              ...             ...  \n67567     -34.945000      138.531006  \n67568      43.061298       74.477600  \n67569      55.408798       37.906300  \n67570      40.609001       72.793297  \n67571      43.061298       74.477600  \n\n[67393 rows x 8 columns]",
      "text/html": "<div>\n<style scoped>\n    .dataframe tbody tr th:only-of-type {\n        vertical-align: middle;\n    }\n\n    .dataframe tbody tr th {\n        vertical-align: top;\n    }\n\n    .dataframe thead th {\n        text-align: right;\n    }\n</style>\n<table border=\"1\" class=\"dataframe\">\n  <thead>\n    <tr style=\"text-align: right;\">\n      <th></th>\n      <th>src_id</th>\n      <th>src_name</th>\n      <th>src_latitude</th>\n      <th>src_longitude</th>\n      <th>dest_id</th>\n      <th>dest_name</th>\n      <th>dest_latitude</th>\n      <th>dest_longitude</th>\n    </tr>\n  </thead>\n  <tbody>\n    <tr>\n      <th>0</th>\n      <td>2965</td>\n      <td>AER</td>\n      <td>43.449902</td>\n      <td>39.956600</td>\n      <td>2990</td>\n      <td>KZN</td>\n      <td>55.606201</td>\n      <td>49.278702</td>\n    </tr>\n    <tr>\n      <th>1</th>\n      <td>2966</td>\n      <td>ASF</td>\n      <td>46.283298</td>\n      <td>48.006302</td>\n      <td>2990</td>\n      <td>KZN</td>\n      <td>55.606201</td>\n      <td>49.278702</td>\n    </tr>\n    <tr>\n      <th>2</th>\n      <td>2966</td>\n      <td>ASF</td>\n      <td>46.283298</td>\n      <td>48.006302</td>\n      <td>2962</td>\n      <td>MRV</td>\n      <td>44.225101</td>\n      <td>43.081902</td>\n    </tr>\n    <tr>\n      <th>3</th>\n      <td>2968</td>\n      <td>CEK</td>\n      <td>55.305801</td>\n      <td>61.503300</td>\n      <td>2990</td>\n      <td>KZN</td>\n      <td>55.606201</td>\n      <td>49.278702</td>\n    </tr>\n    <tr>\n      <th>4</th>\n      <td>2968</td>\n      <td>CEK</td>\n      <td>55.305801</td>\n      <td>61.503300</td>\n      <td>4078</td>\n      <td>OVB</td>\n      <td>55.012600</td>\n      <td>82.650703</td>\n    </tr>\n    <tr>\n      <th>...</th>\n      <td>...</td>\n      <td>...</td>\n      <td>...</td>\n      <td>...</td>\n      <td>...</td>\n      <td>...</td>\n      <td>...</td>\n      <td>...</td>\n    </tr>\n    <tr>\n      <th>67567</th>\n      <td>6334</td>\n      <td>WYA</td>\n      <td>-33.058899</td>\n      <td>137.514008</td>\n      <td>3341</td>\n      <td>ADL</td>\n      <td>-34.945000</td>\n      <td>138.531006</td>\n    </tr>\n    <tr>\n      <th>67568</th>\n      <td>4029</td>\n      <td>DME</td>\n      <td>55.408798</td>\n      <td>37.906300</td>\n      <td>2912</td>\n      <td>FRU</td>\n      <td>43.061298</td>\n      <td>74.477600</td>\n    </tr>\n    <tr>\n      <th>67569</th>\n      <td>2912</td>\n      <td>FRU</td>\n      <td>43.061298</td>\n      <td>74.477600</td>\n      <td>4029</td>\n      <td>DME</td>\n      <td>55.408798</td>\n      <td>37.906300</td>\n    </tr>\n    <tr>\n      <th>67570</th>\n      <td>2912</td>\n      <td>FRU</td>\n      <td>43.061298</td>\n      <td>74.477600</td>\n      <td>2913</td>\n      <td>OSS</td>\n      <td>40.609001</td>\n      <td>72.793297</td>\n    </tr>\n    <tr>\n      <th>67571</th>\n      <td>2913</td>\n      <td>OSS</td>\n      <td>40.609001</td>\n      <td>72.793297</td>\n      <td>2912</td>\n      <td>FRU</td>\n      <td>43.061298</td>\n      <td>74.477600</td>\n    </tr>\n  </tbody>\n</table>\n<p>67393 rows × 8 columns</p>\n</div>"
     },
     "execution_count": 5,
     "metadata": {},
     "output_type": "execute_result"
    }
   ],
   "source": [
    "data = pd.merge(airlines_data, airports_data, left_on=[\"src_name\"], right_on=[\"name\"], how=\"left\")\n",
    "data = data.rename(columns={\"latitude\" : \"src_latitude\", \"longitude\": \"src_longitude\"})[[\"src_id\", \"src_name\", \"src_latitude\", \"src_longitude\", \"dest_id\", \"dest_name\"]]\n",
    "data = pd.merge(data, airports_data, left_on=[\"dest_name\"], right_on=[\"name\"], how=\"left\")\n",
    "data = data.rename(columns={\"latitude\" : \"dest_latitude\", \"longitude\": \"dest_longitude\"})[[\"src_id\", \"src_name\", \"src_latitude\", \"src_longitude\", \"dest_id\", \"dest_name\", \"dest_latitude\", \"dest_longitude\"]]\n",
    "data.dropna(inplace=True)\n",
    "data"
   ],
   "metadata": {
    "collapsed": false,
    "ExecuteTime": {
     "end_time": "2023-10-14T17:58:59.850757Z",
     "start_time": "2023-10-14T17:58:59.703373400Z"
    }
   },
   "id": "7b2e2eabc732b1fa"
  },
  {
   "cell_type": "markdown",
   "source": [
    "---\n",
    "# Data Analysis (Part I)\n",
    "---"
   ],
   "metadata": {
    "collapsed": false
   },
   "id": "2c80b93bb56e3d5"
  },
  {
   "cell_type": "markdown",
   "source": [
    "### Counting the occurrences of each source name"
   ],
   "metadata": {
    "collapsed": false
   },
   "id": "a35c8d8186e8175a"
  },
  {
   "cell_type": "code",
   "execution_count": 6,
   "outputs": [
    {
     "data": {
      "text/plain": "     src_name  count\n0         ATL    915\n1         ORD    558\n2         LHR    527\n3         PEK    527\n4         CDG    524\n...       ...    ...\n3351      OGS      1\n3352      OLF      1\n3353      YGZ      1\n3354      PVC      1\n3355      WYA      1\n\n[3356 rows x 2 columns]",
      "text/html": "<div>\n<style scoped>\n    .dataframe tbody tr th:only-of-type {\n        vertical-align: middle;\n    }\n\n    .dataframe tbody tr th {\n        vertical-align: top;\n    }\n\n    .dataframe thead th {\n        text-align: right;\n    }\n</style>\n<table border=\"1\" class=\"dataframe\">\n  <thead>\n    <tr style=\"text-align: right;\">\n      <th></th>\n      <th>src_name</th>\n      <th>count</th>\n    </tr>\n  </thead>\n  <tbody>\n    <tr>\n      <th>0</th>\n      <td>ATL</td>\n      <td>915</td>\n    </tr>\n    <tr>\n      <th>1</th>\n      <td>ORD</td>\n      <td>558</td>\n    </tr>\n    <tr>\n      <th>2</th>\n      <td>LHR</td>\n      <td>527</td>\n    </tr>\n    <tr>\n      <th>3</th>\n      <td>PEK</td>\n      <td>527</td>\n    </tr>\n    <tr>\n      <th>4</th>\n      <td>CDG</td>\n      <td>524</td>\n    </tr>\n    <tr>\n      <th>...</th>\n      <td>...</td>\n      <td>...</td>\n    </tr>\n    <tr>\n      <th>3351</th>\n      <td>OGS</td>\n      <td>1</td>\n    </tr>\n    <tr>\n      <th>3352</th>\n      <td>OLF</td>\n      <td>1</td>\n    </tr>\n    <tr>\n      <th>3353</th>\n      <td>YGZ</td>\n      <td>1</td>\n    </tr>\n    <tr>\n      <th>3354</th>\n      <td>PVC</td>\n      <td>1</td>\n    </tr>\n    <tr>\n      <th>3355</th>\n      <td>WYA</td>\n      <td>1</td>\n    </tr>\n  </tbody>\n</table>\n<p>3356 rows × 2 columns</p>\n</div>"
     },
     "execution_count": 6,
     "metadata": {},
     "output_type": "execute_result"
    }
   ],
   "source": [
    "src_count = data[\"src_name\"].value_counts().reset_index()\n",
    "src_count.columns = [\"src_name\", \"count\"]\n",
    "src_count"
   ],
   "metadata": {
    "collapsed": false,
    "ExecuteTime": {
     "end_time": "2023-10-14T17:58:59.924149700Z",
     "start_time": "2023-10-14T17:58:59.850757Z"
    }
   },
   "id": "5c436adc73b751de"
  },
  {
   "cell_type": "markdown",
   "source": [
    "### Counting the occurrences of each destination name"
   ],
   "metadata": {
    "collapsed": false
   },
   "id": "c57c06fc1d159514"
  },
  {
   "cell_type": "code",
   "execution_count": 7,
   "outputs": [
    {
     "data": {
      "text/plain": "     dest_name  count\n0          ATL    911\n1          ORD    550\n2          PEK    527\n3          LHR    524\n4          CDG    517\n...        ...    ...\n3359       OER      1\n3360       ESL      1\n3361       OGL      1\n3362       PES      1\n3363       GFN      1\n\n[3364 rows x 2 columns]",
      "text/html": "<div>\n<style scoped>\n    .dataframe tbody tr th:only-of-type {\n        vertical-align: middle;\n    }\n\n    .dataframe tbody tr th {\n        vertical-align: top;\n    }\n\n    .dataframe thead th {\n        text-align: right;\n    }\n</style>\n<table border=\"1\" class=\"dataframe\">\n  <thead>\n    <tr style=\"text-align: right;\">\n      <th></th>\n      <th>dest_name</th>\n      <th>count</th>\n    </tr>\n  </thead>\n  <tbody>\n    <tr>\n      <th>0</th>\n      <td>ATL</td>\n      <td>911</td>\n    </tr>\n    <tr>\n      <th>1</th>\n      <td>ORD</td>\n      <td>550</td>\n    </tr>\n    <tr>\n      <th>2</th>\n      <td>PEK</td>\n      <td>527</td>\n    </tr>\n    <tr>\n      <th>3</th>\n      <td>LHR</td>\n      <td>524</td>\n    </tr>\n    <tr>\n      <th>4</th>\n      <td>CDG</td>\n      <td>517</td>\n    </tr>\n    <tr>\n      <th>...</th>\n      <td>...</td>\n      <td>...</td>\n    </tr>\n    <tr>\n      <th>3359</th>\n      <td>OER</td>\n      <td>1</td>\n    </tr>\n    <tr>\n      <th>3360</th>\n      <td>ESL</td>\n      <td>1</td>\n    </tr>\n    <tr>\n      <th>3361</th>\n      <td>OGL</td>\n      <td>1</td>\n    </tr>\n    <tr>\n      <th>3362</th>\n      <td>PES</td>\n      <td>1</td>\n    </tr>\n    <tr>\n      <th>3363</th>\n      <td>GFN</td>\n      <td>1</td>\n    </tr>\n  </tbody>\n</table>\n<p>3364 rows × 2 columns</p>\n</div>"
     },
     "execution_count": 7,
     "metadata": {},
     "output_type": "execute_result"
    }
   ],
   "source": [
    "dest_count = data[\"dest_name\"].value_counts().reset_index()\n",
    "dest_count.columns = [\"dest_name\", \"count\"]\n",
    "dest_count"
   ],
   "metadata": {
    "collapsed": false,
    "ExecuteTime": {
     "end_time": "2023-10-14T17:59:00.018807300Z",
     "start_time": "2023-10-14T17:58:59.881829700Z"
    }
   },
   "id": "f920765b352c6c49"
  },
  {
   "cell_type": "markdown",
   "source": [
    "---\n",
    "# Visualization (Part I) - Total Dataset\n",
    "---"
   ],
   "metadata": {
    "collapsed": false
   },
   "id": "463ccd71dc47ea6a"
  },
  {
   "cell_type": "code",
   "execution_count": 8,
   "outputs": [],
   "source": [
    "vis = folium.Map(location=[0,0], zoom_start=3, tiles=\"cartodb dark_matter\")\n",
    "for _, route in data.iterrows():\n",
    "    folium.PolyLine([(route[\"src_latitude\"], route[\"src_longitude\"]), (route[\"dest_latitude\"], route[\"dest_longitude\"])], color=\"cyan\", weight=0.1, opacity=0.5).add_to(vis)\n",
    "vis.save(\"vis1_total_dataset.html\")"
   ],
   "metadata": {
    "collapsed": false,
    "ExecuteTime": {
     "end_time": "2023-10-14T18:00:05.491920100Z",
     "start_time": "2023-10-14T17:58:59.924149700Z"
    }
   },
   "id": "85188ca4a5fc402f"
  },
  {
   "cell_type": "markdown",
   "source": [
    "---\n",
    "# Node Analysis (Part I)\n",
    "---"
   ],
   "metadata": {
    "collapsed": false
   },
   "id": "bbf2e32c43c3942b"
  },
  {
   "cell_type": "markdown",
   "source": [
    "### Build the Directed Graph\n",
    "(Nodes represent airports and edges represent a route between two airports)"
   ],
   "metadata": {
    "collapsed": false
   },
   "id": "33b6c484921d3f36"
  },
  {
   "cell_type": "code",
   "execution_count": 9,
   "outputs": [],
   "source": [
    "G = nx.DiGraph()\n",
    "\n",
    "for _, row in data.iterrows():\n",
    "    G.add_edge(row['src_name'], row['dest_name'], weight=1)"
   ],
   "metadata": {
    "collapsed": false,
    "ExecuteTime": {
     "end_time": "2023-10-14T18:00:11.419835700Z",
     "start_time": "2023-10-14T18:00:05.491920100Z"
    }
   },
   "id": "199f9ac518fd2d3d"
  },
  {
   "cell_type": "markdown",
   "source": [
    "### Average Degree\n",
    "(Calculate the in-degree and out-degree)\n",
    "The average in-degree and out-degree are the same, this is actually an expected property of directed graphs, and it's based on the Handshaking Lemma. When we calculate the average in-degree and out-degree, we divide the total in-degree and out-degree by the number of nodes, respectively. Since the total in-degree and out-degree are equal (as per the lemma), their averages will also be equal. Thus, in any directed graph, the average in-degree is always equal to the average out-degree."
   ],
   "metadata": {
    "collapsed": false
   },
   "id": "2bfc190a4186e756"
  },
  {
   "cell_type": "code",
   "execution_count": 10,
   "outputs": [
    {
     "name": "stdout",
     "output_type": "stream",
     "text": [
      "Average In-Degree: 11.09012748295286\n",
      "Average Out-Degree: 11.09012748295286\n"
     ]
    }
   ],
   "source": [
    "in_degrees = [deg for node, deg in G.in_degree()]\n",
    "out_degrees = [deg for node, deg in G.out_degree()]\n",
    "\n",
    "avg_in_degree = sum(in_degrees) / len(in_degrees)\n",
    "avg_out_degree = sum(out_degrees) / len(out_degrees)\n",
    "\n",
    "print(f\"Average In-Degree: {avg_in_degree}\")\n",
    "print(f\"Average Out-Degree: {avg_out_degree}\")"
   ],
   "metadata": {
    "collapsed": false,
    "ExecuteTime": {
     "end_time": "2023-10-14T18:00:11.434238500Z",
     "start_time": "2023-10-14T18:00:11.419835700Z"
    }
   },
   "id": "d21b58451f1e7d0"
  },
  {
   "cell_type": "markdown",
   "source": [
    "### Degree Rank\n",
    "(Provides a visualization of the degrees of nodes within the network, ordered from the highest to the lowest. The x-axis represents the rank of each node (from the highest degree to the lowest), while the y-axis represents the degree of nodes. This plot is useful for quickly identifying the nodes with the highest degrees and observing the degree variability within the network. A steep curve indicates a few nodes have significantly higher degrees than the rest, which might suggest a scale-free network)"
   ],
   "metadata": {
    "collapsed": false
   },
   "id": "d8efff366416d64d"
  },
  {
   "cell_type": "code",
   "execution_count": 11,
   "outputs": [
    {
     "data": {
      "text/plain": "<Figure size 640x480 with 1 Axes>",
      "image/png": "[encoded data removed]"
     },
     "metadata": {},
     "output_type": "display_data"
    }
   ],
   "source": [
    "degree_sequence = sorted((d for n, d in G.degree()), reverse=True)\n",
    "plt.plot(degree_sequence, \"b-\", marker=\"o\")\n",
    "plt.title(\"Degree Rank\")\n",
    "plt.ylabel(\"Degree\")\n",
    "plt.xlabel(\"Rank\")\n",
    "plt.show()"
   ],
   "metadata": {
    "collapsed": false,
    "ExecuteTime": {
     "end_time": "2023-10-14T18:00:11.742794500Z",
     "start_time": "2023-10-14T18:00:11.434238500Z"
    }
   },
   "id": "19ad39052c73a5c9"
  },
  {
   "cell_type": "markdown",
   "source": [
    "### Degree Distribution\n",
    "(Illustrates the distribution of node degrees across the entire network. The x-axis represents the degree k of nodes, and the y-axis represents the frequency or probability of nodes having degree k. This histogram provides insights into the commonality of nodes with certain degrees, enabling you to identify the most common and rare node degrees within the network. Peaks in the histogram indicate degrees that are more prevalent in the network)"
   ],
   "metadata": {
    "collapsed": false
   },
   "id": "e533f4942eddb714"
  },
  {
   "cell_type": "code",
   "execution_count": 12,
   "outputs": [
    {
     "data": {
      "text/plain": "<Figure size 640x480 with 1 Axes>",
      "image/png": "[encoded data removed]"
     },
     "metadata": {},
     "output_type": "display_data"
    }
   ],
   "source": [
    "hist, bins = np.histogram(degree_sequence, bins=20, density=True)\n",
    "plt.bar(bins[:-1], hist, width=np.diff(bins), color='skyblue', edgecolor='black', alpha=0.7)\n",
    "plt.title(\"Degree Distribution\")\n",
    "plt.xlabel(\"Degree\")\n",
    "plt.ylabel(\"Probability\")\n",
    "plt.show()"
   ],
   "metadata": {
    "collapsed": false,
    "ExecuteTime": {
     "end_time": "2023-10-14T18:00:12.035485100Z",
     "start_time": "2023-10-14T18:00:11.742794500Z"
    }
   },
   "id": "5af6666d4d84736"
  },
  {
   "cell_type": "markdown",
   "source": [
    "### Log-Log Degree Rank\n",
    "(It is a log-log plot of the degree distribution of the network. Both axes are on a logarithmic scale. The x-axis represents the degree k of nodes, and the y-axis represents the frequency or probability of nodes having degree k. This plot is particularly useful for identifying whether the degree distribution follows a power-law distribution, which is a common property of scale-free networks. A straight line on a log-log scale indicates a power-law distribution, while deviations from this can highlight interesting properties or anomalies in the network)"
   ],
   "metadata": {
    "collapsed": false
   },
   "id": "6bdd9f63925bbbbc"
  },
  {
   "cell_type": "code",
   "execution_count": 13,
   "outputs": [
    {
     "data": {
      "text/plain": "<Figure size 640x480 with 1 Axes>",
      "image/png": "[encoded data removed]"
     },
     "metadata": {},
     "output_type": "display_data"
    }
   ],
   "source": [
    "plt.loglog(degree_sequence, 'b-', marker='o')\n",
    "plt.title(\"Log-Log Degree Rank\")\n",
    "plt.xlabel(\"Log Rank\")\n",
    "plt.ylabel(\"Log Degree\")\n",
    "plt.show()"
   ],
   "metadata": {
    "collapsed": false,
    "ExecuteTime": {
     "end_time": "2023-10-14T18:00:12.765669400Z",
     "start_time": "2023-10-14T18:00:12.035485100Z"
    }
   },
   "id": "a21623935a27a95c"
  },
  {
   "cell_type": "markdown",
   "source": [
    "### Cumulative Log-Log Degree Distribution\n",
    "(It visualizes the cumulative degree distribution of the network on a log-log scale. The x-axis represents the degree k of nodes, and the y-axis represents the cumulative probability (≥) P(K≥k) that a node has a degree larger than or equal to k. This plot is especially useful for analyzing the tail behavior of the degree distribution, particularly in networks with heavy-tailed or power-law degree distributions. A smoother curve in the cumulative plot, as compared to the non-cumulative version, often provides a clearer visualization of the tail and can be more amenable to regression analysis for identifying power-law exponents)"
   ],
   "metadata": {
    "collapsed": false
   },
   "id": "3b3374d151f196f1"
  },
  {
   "cell_type": "code",
   "execution_count": 14,
   "outputs": [
    {
     "data": {
      "text/plain": "<Figure size 640x480 with 1 Axes>",
      "image/png": "[encoded data removed]"
     },
     "metadata": {},
     "output_type": "display_data"
    }
   ],
   "source": [
    "hist, bin_edges = np.histogram(degree_sequence, bins=np.arange(1, np.max(degree_sequence)+2), density=True)\n",
    "cumulative_dist = np.cumsum(hist[::-1])[::-1]\n",
    "plt.loglog(bin_edges[:-1], cumulative_dist, 'bo-', linewidth=2)\n",
    "plt.title(\"Cumulative Log-Log Degree Distribution\")\n",
    "plt.xlabel(\"Log Degree\")\n",
    "plt.ylabel(\"Log P(K>=k)\")\n",
    "plt.show()"
   ],
   "metadata": {
    "collapsed": false,
    "ExecuteTime": {
     "end_time": "2023-10-14T18:00:14.647311500Z",
     "start_time": "2023-10-14T18:00:12.770543300Z"
    }
   },
   "id": "cd4286f376ef3008"
  },
  {
   "cell_type": "markdown",
   "source": [
    "---\n",
    "# Visualization (Part II) - Top 5 nodes with Highest Degree\n",
    "---\n",
    "(In this visualization, we will focus on the top 5 airports with the highest degree, omitting the visualization of all routes to enhance clarity and focus on these key hubs. Each airport will be represented by a marker, and the routes originating from these airports will be depicted by lines on the map. Different colors will be assigned to each airport and its respective routes for clear differentiation and analysis. This visualization will provide insights into the connectivity and network structure of the most central airports, which can be pivotal for strategic planning, route optimization, and understanding the flow and distribution of air traffic across the network)"
   ],
   "metadata": {
    "collapsed": false
   },
   "id": "b3fa944dfac3e334"
  },
  {
   "cell_type": "code",
   "execution_count": 15,
   "outputs": [],
   "source": [
    "degree_dict = dict(G.degree())\n",
    "top_nodes = sorted(degree_dict.items(), key=lambda x: x[1], reverse=True)[:5]\n",
    "colors = ['red', 'blue', 'green', 'gray', 'orange']\n",
    "vis = folium.Map(location=[0,0], zoom_start=3, tiles=\"cartodb dark_matter\")\n",
    "for idx, (node, _) in enumerate(top_nodes):\n",
    "    lat = data[data['src_name'] == node]['src_latitude'].values[0]\n",
    "    lon = data[data['src_name'] == node]['src_longitude'].values[0]\n",
    "    folium.Marker(location=[lat, lon],\n",
    "                  popup=f\"{node}\\nDegree: {degree_dict[node]}\",\n",
    "                  icon=folium.Icon(color=colors[idx])).add_to(vis)\n",
    "    routes_from_node = data[data['src_name'] == node]\n",
    "    for _, route in routes_from_node.iterrows():\n",
    "        folium.PolyLine([(route[\"src_latitude\"], route[\"src_longitude\"]),\n",
    "                         (route[\"dest_latitude\"], route[\"dest_longitude\"])],\n",
    "                        color=colors[idx], weight=0.4, opacity=0.5).add_to(vis)\n",
    "vis.save(\"vis2_top_nodes_by_degree.html\")"
   ],
   "metadata": {
    "collapsed": false,
    "ExecuteTime": {
     "end_time": "2023-10-14T18:00:18.684207400Z",
     "start_time": "2023-10-14T18:00:14.662942Z"
    }
   },
   "id": "ed43ec2583708dfd"
  },
  {
   "cell_type": "markdown",
   "source": [
    "### Average Path Degree\n",
    "(Average of all vertex degrees in the network)"
   ],
   "metadata": {
    "collapsed": false
   },
   "id": "d0dbaac6a9043c17"
  },
  {
   "cell_type": "code",
   "execution_count": 16,
   "outputs": [
    {
     "name": "stdout",
     "output_type": "stream",
     "text": [
      "Average Path Degree: 22.18025496590572\n"
     ]
    }
   ],
   "source": [
    "avg_degree = sum(degree_sequence) / len(degree_sequence)\n",
    "print(f\"Average Path Degree: {avg_degree}\")"
   ],
   "metadata": {
    "collapsed": false,
    "ExecuteTime": {
     "end_time": "2023-10-14T18:00:18.692782900Z",
     "start_time": "2023-10-14T18:00:18.684207400Z"
    }
   },
   "id": "59e89cfdcb9a3ba7"
  },
  {
   "cell_type": "markdown",
   "source": [
    "### Average Path Length\n",
    "(Average of all shortest paths in the network)"
   ],
   "metadata": {
    "collapsed": false
   },
   "id": "7c5ce4a54ad458e3"
  },
  {
   "cell_type": "code",
   "execution_count": 17,
   "outputs": [
    {
     "name": "stdout",
     "output_type": "stream",
     "text": [
      "The graph is not connected. Consider analyzing largest connected component.\n"
     ]
    }
   ],
   "source": [
    "if nx.is_weakly_connected(G):\n",
    "    avg_path_length = nx.average_shortest_path_length(G)\n",
    "    print(f\"Average Path Length: {avg_path_length}\")\n",
    "else:\n",
    "    print(\"The graph is not connected. Consider analyzing largest connected component.\")"
   ],
   "metadata": {
    "collapsed": false,
    "ExecuteTime": {
     "end_time": "2023-10-14T18:00:18.764278100Z",
     "start_time": "2023-10-14T18:00:18.692782900Z"
    }
   },
   "id": "5593d0f7eecdc1f4"
  },
  {
   "cell_type": "markdown",
   "source": [
    "### Clustering Coefficient\n",
    "(Measures the degree to which nodes in a graph tend to cluster together)"
   ],
   "metadata": {
    "collapsed": false
   },
   "id": "1eb4ab74e200451f"
  },
  {
   "cell_type": "code",
   "execution_count": 18,
   "outputs": [
    {
     "name": "stdout",
     "output_type": "stream",
     "text": [
      "Average Clustering Coefficient: 0.4716435526437847\n"
     ]
    }
   ],
   "source": [
    "avg_clustering = nx.average_clustering(G)\n",
    "print(f\"Average Clustering Coefficient: {avg_clustering}\")"
   ],
   "metadata": {
    "collapsed": false,
    "ExecuteTime": {
     "end_time": "2023-10-14T18:00:21.172426500Z",
     "start_time": "2023-10-14T18:00:18.733022Z"
    }
   },
   "id": "959f435662262338"
  },
  {
   "cell_type": "markdown",
   "source": [
    "Centrality Measures: Identify important nodes (airports) in the network.\n",
    "\n",
    "Degree Centrality: Identify airports with the most direct routes.\n",
    "Betweenness Centrality: Identify airports that act as significant transfer or stopover points.\n",
    "Community Detection: Identify clusters or communities of airports that are more densely connected with each other than with other groups.\n",
    "\n",
    "Assortativity: Measure the similarity of connections in the network with respect to the node degree.\n",
    "\n",
    "Network Resilience: Analyze how the network structure is affected by the removal of nodes or edges, which could simulate disruptions in the airline network.\n",
    "\n",
    "\n",
    "Top Nodes by Degree:\n",
    "Description: Visualizing the top nodes (airports) with the highest degree on the map can provide insights into major airline hubs and busiest airports.\n",
    "Visualization: You might represent these nodes with larger or differently colored markers to highlight them on the map.\n",
    "2. High Traffic Routes:\n",
    "Description: Highlighting the routes (edges) that have the highest traffic or frequency can illustrate the main airline corridors.\n",
    "Visualization: You might use thicker or differently colored lines to represent these high-traffic routes on the map.\n",
    "3. Geographical Clusters:\n",
    "Description: Identifying and visualizing clusters of nodes that are tightly connected can reveal regional airline networks.\n",
    "Visualization: You might use different colors for nodes and edges that belong to different clusters.\n",
    "4. Centrality Measures:\n",
    "Description: Nodes with high centrality measures (like betweenness centrality) can be crucial for the connectivity of the network.\n",
    "Visualization: Highlighting these nodes can reveal airports that, while not necessarily having the highest degree, play a crucial role in connecting different parts of the network.\n",
    "5. Community Structures:\n",
    "Description: Visualizing community structures can reveal groups of nodes that are more densely connected with each other than with the rest of the network.\n",
    "Visualization: Different communities might be visualized using different colors or shapes for nodes and edges.\n",
    "6. Disconnected Components:\n",
    "Description: Identifying and visualizing disconnected components of the network can reveal isolated sub-networks within the airline routes.\n",
    "Visualization: Different components might be visualized using different colors.\n",
    "7. Shortest Paths:\n",
    "Description: Visualizing the shortest paths between selected major airports might provide insights into the efficiency and connectivity of the network.\n",
    "Visualization: Highlighting the shortest path routes with distinct line styles or colors.\n",
    "8. Vulnerability Analysis:\n",
    "Description: Identifying and visualizing nodes whose removal would significantly disrupt the network can highlight vulnerabilities in the airline route network.\n",
    "Visualization: Such nodes might be visualized with specific markers or colors."
   ],
   "metadata": {
    "collapsed": false
   },
   "id": "474911922b982f41"
  }
 ],
 "metadata": {
  "kernelspec": {
   "display_name": "Python 3",
   "language": "python",
   "name": "python3"
  },
  "language_info": {
   "codemirror_mode": {
    "name": "ipython",
    "version": 2
   },
   "file_extension": ".py",
   "mimetype": "text/x-python",
   "name": "python",
   "nbconvert_exporter": "python",
   "pygments_lexer": "ipython2",
   "version": "2.7.6"
  }
 },
 "nbformat": 4,
 "nbformat_minor": 5
}
