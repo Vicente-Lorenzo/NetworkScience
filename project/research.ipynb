{
 "cells": [
  {
   "cell_type": "code",
   "execution_count": 280,
   "id": "initial_id",
   "metadata": {
    "collapsed": true,
    "ExecuteTime": {
     "end_time": "2023-10-12T00:27:15.151317500Z",
     "start_time": "2023-10-12T00:27:15.100119100Z"
    }
   },
   "outputs": [],
   "source": [
    "import folium\n",
    "import numpy as np\n",
    "import pandas as pd\n",
    "import networkx as nx"
   ]
  },
  {
   "cell_type": "markdown",
   "source": [
    "---\n",
    "# Data Import\n",
    "---"
   ],
   "metadata": {
    "collapsed": false
   },
   "id": "6db800eb7ba3b1ae"
  },
  {
   "cell_type": "markdown",
   "source": [
    "### Read the airlines data with all the flights from src to dest"
   ],
   "metadata": {
    "collapsed": false
   },
   "id": "6f6bc4c350606ef8"
  },
  {
   "cell_type": "code",
   "execution_count": 281,
   "outputs": [
    {
     "name": "stdout",
     "output_type": "stream",
     "text": [
      "<class 'pandas.core.frame.DataFrame'>\n",
      "RangeIndex: 67663 entries, 0 to 67662\n",
      "Data columns (total 4 columns):\n",
      " #   Column     Non-Null Count  Dtype \n",
      "---  ------     --------------  ----- \n",
      " 0   src_name   67663 non-null  object\n",
      " 1   src_id     67663 non-null  object\n",
      " 2   dest_name  67663 non-null  object\n",
      " 3   dest_id    67663 non-null  object\n",
      "dtypes: object(4)\n",
      "memory usage: 2.1+ MB\n"
     ]
    }
   ],
   "source": [
    "airlines_data = pd.read_csv(\"data/airlines.csv\")\n",
    "airlines_data = airlines_data[[\"src_name\", \"src_id\", \"dest_name\", \"dest_id\"]]\n",
    "airlines_data.info()"
   ],
   "metadata": {
    "collapsed": false,
    "ExecuteTime": {
     "end_time": "2023-10-12T00:27:15.219646800Z",
     "start_time": "2023-10-12T00:27:15.108759600Z"
    }
   },
   "id": "fb313c868d76333d"
  },
  {
   "cell_type": "markdown",
   "source": [
    "### Read aiports data with corresponding latitude, longitude and altitude"
   ],
   "metadata": {
    "collapsed": false
   },
   "id": "1667696e2a10b342"
  },
  {
   "cell_type": "code",
   "execution_count": 282,
   "outputs": [
    {
     "name": "stdout",
     "output_type": "stream",
     "text": [
      "<class 'pandas.core.frame.DataFrame'>\n",
      "RangeIndex: 12668 entries, 0 to 12667\n",
      "Data columns (total 4 columns):\n",
      " #   Column     Non-Null Count  Dtype  \n",
      "---  ------     --------------  -----  \n",
      " 0   id         12668 non-null  int64  \n",
      " 1   name       12668 non-null  object \n",
      " 2   latitude   12668 non-null  float64\n",
      " 3   longitude  12668 non-null  float64\n",
      "dtypes: float64(2), int64(1), object(1)\n",
      "memory usage: 396.0+ KB\n"
     ]
    }
   ],
   "source": [
    "airports_data = pd.read_csv(\"data/airports.csv\")\n",
    "airports_data = airports_data[[\"id\", \"name\", \"latitude\", \"longitude\"]]\n",
    "airports_data.info()"
   ],
   "metadata": {
    "collapsed": false,
    "ExecuteTime": {
     "end_time": "2023-10-12T00:27:15.244418800Z",
     "start_time": "2023-10-12T00:27:15.192673500Z"
    }
   },
   "id": "5bd26bffddbe1a22"
  },
  {
   "cell_type": "markdown",
   "source": [
    "---\n",
    "# Data Processing and Cleaning\n",
    "---"
   ],
   "metadata": {
    "collapsed": false
   },
   "id": "1f49f2d1e5472fa6"
  },
  {
   "cell_type": "markdown",
   "source": [
    "### Fill the \"\\N\" values of the airlines dataset and cast object columns to int64"
   ],
   "metadata": {
    "collapsed": false
   },
   "id": "cfef7629759d6e81"
  },
  {
   "cell_type": "code",
   "execution_count": 283,
   "outputs": [
    {
     "name": "stdout",
     "output_type": "stream",
     "text": [
      "<class 'pandas.core.frame.DataFrame'>\n",
      "Index: 67572 entries, 0 to 67662\n",
      "Data columns (total 4 columns):\n",
      " #   Column     Non-Null Count  Dtype \n",
      "---  ------     --------------  ----- \n",
      " 0   src_name   67572 non-null  object\n",
      " 1   src_id     67572 non-null  int64 \n",
      " 2   dest_name  67572 non-null  object\n",
      " 3   dest_id    67572 non-null  int64 \n",
      "dtypes: int64(2), object(2)\n",
      "memory usage: 2.6+ MB\n"
     ]
    }
   ],
   "source": [
    "name_to_id_mapping = pd.Series(airports_data[\"id\"].values, index=airports_data[\"name\"]).to_dict()\n",
    "airlines_data.replace({\"\\\\N\": pd.NA}, inplace=True)\n",
    "airlines_data[\"src_id\"] = airlines_data[\"src_id\"].fillna(airlines_data[\"src_name\"].map(name_to_id_mapping))\n",
    "airlines_data[\"dest_id\"] = airlines_data[\"dest_id\"].fillna(airlines_data[\"dest_name\"].map(name_to_id_mapping))\n",
    "airlines_data.dropna(inplace=True)\n",
    "airlines_data[\"src_id\"] = airlines_data[\"src_id\"].astype(np.int64)\n",
    "airlines_data[\"dest_id\"] = airlines_data[\"dest_id\"].astype(np.int64)\n",
    "airlines_data.info()"
   ],
   "metadata": {
    "collapsed": false,
    "ExecuteTime": {
     "end_time": "2023-10-12T00:27:15.312681900Z",
     "start_time": "2023-10-12T00:27:15.248382500Z"
    }
   },
   "id": "e8b50c3449bc4c4c"
  },
  {
   "cell_type": "markdown",
   "source": [
    "### Merge the datasets and get the latitude and longitude for both source and destination airports"
   ],
   "metadata": {
    "collapsed": false
   },
   "id": "9d6a5e4981f82c0a"
  },
  {
   "cell_type": "code",
   "execution_count": 284,
   "outputs": [
    {
     "data": {
      "text/plain": "       src_id src_name  src_latitude  src_longitude  dest_id dest_name  \\\n0        2965      AER     43.449902      39.956600     2990       KZN   \n1        2966      ASF     46.283298      48.006302     2990       KZN   \n2        2966      ASF     46.283298      48.006302     2962       MRV   \n3        2968      CEK     55.305801      61.503300     2990       KZN   \n4        2968      CEK     55.305801      61.503300     4078       OVB   \n...       ...      ...           ...            ...      ...       ...   \n67567    6334      WYA    -33.058899     137.514008     3341       ADL   \n67568    4029      DME     55.408798      37.906300     2912       FRU   \n67569    2912      FRU     43.061298      74.477600     4029       DME   \n67570    2912      FRU     43.061298      74.477600     2913       OSS   \n67571    2913      OSS     40.609001      72.793297     2912       FRU   \n\n       dest_latitude  dest_longitude  \n0          55.606201       49.278702  \n1          55.606201       49.278702  \n2          44.225101       43.081902  \n3          55.606201       49.278702  \n4          55.012600       82.650703  \n...              ...             ...  \n67567     -34.945000      138.531006  \n67568      43.061298       74.477600  \n67569      55.408798       37.906300  \n67570      40.609001       72.793297  \n67571      43.061298       74.477600  \n\n[67393 rows x 8 columns]",
      "text/html": "<div>\n<style scoped>\n    .dataframe tbody tr th:only-of-type {\n        vertical-align: middle;\n    }\n\n    .dataframe tbody tr th {\n        vertical-align: top;\n    }\n\n    .dataframe thead th {\n        text-align: right;\n    }\n</style>\n<table border=\"1\" class=\"dataframe\">\n  <thead>\n    <tr style=\"text-align: right;\">\n      <th></th>\n      <th>src_id</th>\n      <th>src_name</th>\n      <th>src_latitude</th>\n      <th>src_longitude</th>\n      <th>dest_id</th>\n      <th>dest_name</th>\n      <th>dest_latitude</th>\n      <th>dest_longitude</th>\n    </tr>\n  </thead>\n  <tbody>\n    <tr>\n      <th>0</th>\n      <td>2965</td>\n      <td>AER</td>\n      <td>43.449902</td>\n      <td>39.956600</td>\n      <td>2990</td>\n      <td>KZN</td>\n      <td>55.606201</td>\n      <td>49.278702</td>\n    </tr>\n    <tr>\n      <th>1</th>\n      <td>2966</td>\n      <td>ASF</td>\n      <td>46.283298</td>\n      <td>48.006302</td>\n      <td>2990</td>\n      <td>KZN</td>\n      <td>55.606201</td>\n      <td>49.278702</td>\n    </tr>\n    <tr>\n      <th>2</th>\n      <td>2966</td>\n      <td>ASF</td>\n      <td>46.283298</td>\n      <td>48.006302</td>\n      <td>2962</td>\n      <td>MRV</td>\n      <td>44.225101</td>\n      <td>43.081902</td>\n    </tr>\n    <tr>\n      <th>3</th>\n      <td>2968</td>\n      <td>CEK</td>\n      <td>55.305801</td>\n      <td>61.503300</td>\n      <td>2990</td>\n      <td>KZN</td>\n      <td>55.606201</td>\n      <td>49.278702</td>\n    </tr>\n    <tr>\n      <th>4</th>\n      <td>2968</td>\n      <td>CEK</td>\n      <td>55.305801</td>\n      <td>61.503300</td>\n      <td>4078</td>\n      <td>OVB</td>\n      <td>55.012600</td>\n      <td>82.650703</td>\n    </tr>\n    <tr>\n      <th>...</th>\n      <td>...</td>\n      <td>...</td>\n      <td>...</td>\n      <td>...</td>\n      <td>...</td>\n      <td>...</td>\n      <td>...</td>\n      <td>...</td>\n    </tr>\n    <tr>\n      <th>67567</th>\n      <td>6334</td>\n      <td>WYA</td>\n      <td>-33.058899</td>\n      <td>137.514008</td>\n      <td>3341</td>\n      <td>ADL</td>\n      <td>-34.945000</td>\n      <td>138.531006</td>\n    </tr>\n    <tr>\n      <th>67568</th>\n      <td>4029</td>\n      <td>DME</td>\n      <td>55.408798</td>\n      <td>37.906300</td>\n      <td>2912</td>\n      <td>FRU</td>\n      <td>43.061298</td>\n      <td>74.477600</td>\n    </tr>\n    <tr>\n      <th>67569</th>\n      <td>2912</td>\n      <td>FRU</td>\n      <td>43.061298</td>\n      <td>74.477600</td>\n      <td>4029</td>\n      <td>DME</td>\n      <td>55.408798</td>\n      <td>37.906300</td>\n    </tr>\n    <tr>\n      <th>67570</th>\n      <td>2912</td>\n      <td>FRU</td>\n      <td>43.061298</td>\n      <td>74.477600</td>\n      <td>2913</td>\n      <td>OSS</td>\n      <td>40.609001</td>\n      <td>72.793297</td>\n    </tr>\n    <tr>\n      <th>67571</th>\n      <td>2913</td>\n      <td>OSS</td>\n      <td>40.609001</td>\n      <td>72.793297</td>\n      <td>2912</td>\n      <td>FRU</td>\n      <td>43.061298</td>\n      <td>74.477600</td>\n    </tr>\n  </tbody>\n</table>\n<p>67393 rows × 8 columns</p>\n</div>"
     },
     "execution_count": 284,
     "metadata": {},
     "output_type": "execute_result"
    }
   ],
   "source": [
    "data = pd.merge(airlines_data, airports_data, left_on=[\"src_name\"], right_on=[\"name\"], how=\"left\")\n",
    "data = data.rename(columns={\"latitude\" : \"src_latitude\", \"longitude\": \"src_longitude\"})[[\"src_id\", \"src_name\", \"src_latitude\", \"src_longitude\", \"dest_id\", \"dest_name\"]]\n",
    "data = pd.merge(data, airports_data, left_on=[\"dest_name\"], right_on=[\"name\"], how=\"left\")\n",
    "data = data.rename(columns={\"latitude\" : \"dest_latitude\", \"longitude\": \"dest_longitude\"})[[\"src_id\", \"src_name\", \"src_latitude\", \"src_longitude\", \"dest_id\", \"dest_name\", \"dest_latitude\", \"dest_longitude\"]]\n",
    "data.dropna(inplace=True)\n",
    "data"
   ],
   "metadata": {
    "collapsed": false,
    "ExecuteTime": {
     "end_time": "2023-10-12T00:27:15.378515200Z",
     "start_time": "2023-10-12T00:27:15.311684100Z"
    }
   },
   "id": "7b2e2eabc732b1fa"
  },
  {
   "cell_type": "markdown",
   "source": [
    "---\n",
    "# Data Analysis (Part I)\n",
    "---"
   ],
   "metadata": {
    "collapsed": false
   },
   "id": "2c80b93bb56e3d5"
  },
  {
   "cell_type": "markdown",
   "source": [
    "### Counting the occurrences of each source name"
   ],
   "metadata": {
    "collapsed": false
   },
   "id": "a35c8d8186e8175a"
  },
  {
   "cell_type": "code",
   "execution_count": 285,
   "outputs": [
    {
     "data": {
      "text/plain": "     src_name  count\n0         ATL    915\n1         ORD    558\n2         LHR    527\n3         PEK    527\n4         CDG    524\n...       ...    ...\n3351      OGS      1\n3352      OLF      1\n3353      YGZ      1\n3354      PVC      1\n3355      WYA      1\n\n[3356 rows x 2 columns]",
      "text/html": "<div>\n<style scoped>\n    .dataframe tbody tr th:only-of-type {\n        vertical-align: middle;\n    }\n\n    .dataframe tbody tr th {\n        vertical-align: top;\n    }\n\n    .dataframe thead th {\n        text-align: right;\n    }\n</style>\n<table border=\"1\" class=\"dataframe\">\n  <thead>\n    <tr style=\"text-align: right;\">\n      <th></th>\n      <th>src_name</th>\n      <th>count</th>\n    </tr>\n  </thead>\n  <tbody>\n    <tr>\n      <th>0</th>\n      <td>ATL</td>\n      <td>915</td>\n    </tr>\n    <tr>\n      <th>1</th>\n      <td>ORD</td>\n      <td>558</td>\n    </tr>\n    <tr>\n      <th>2</th>\n      <td>LHR</td>\n      <td>527</td>\n    </tr>\n    <tr>\n      <th>3</th>\n      <td>PEK</td>\n      <td>527</td>\n    </tr>\n    <tr>\n      <th>4</th>\n      <td>CDG</td>\n      <td>524</td>\n    </tr>\n    <tr>\n      <th>...</th>\n      <td>...</td>\n      <td>...</td>\n    </tr>\n    <tr>\n      <th>3351</th>\n      <td>OGS</td>\n      <td>1</td>\n    </tr>\n    <tr>\n      <th>3352</th>\n      <td>OLF</td>\n      <td>1</td>\n    </tr>\n    <tr>\n      <th>3353</th>\n      <td>YGZ</td>\n      <td>1</td>\n    </tr>\n    <tr>\n      <th>3354</th>\n      <td>PVC</td>\n      <td>1</td>\n    </tr>\n    <tr>\n      <th>3355</th>\n      <td>WYA</td>\n      <td>1</td>\n    </tr>\n  </tbody>\n</table>\n<p>3356 rows × 2 columns</p>\n</div>"
     },
     "execution_count": 285,
     "metadata": {},
     "output_type": "execute_result"
    }
   ],
   "source": [
    "src_count = data[\"src_name\"].value_counts().reset_index()\n",
    "src_count.columns = [\"src_name\", \"count\"]\n",
    "src_count"
   ],
   "metadata": {
    "collapsed": false,
    "ExecuteTime": {
     "end_time": "2023-10-12T00:27:15.398223400Z",
     "start_time": "2023-10-12T00:27:15.377516600Z"
    }
   },
   "id": "5c436adc73b751de"
  },
  {
   "cell_type": "markdown",
   "source": [
    "### Counting the occurrences of each destination name"
   ],
   "metadata": {
    "collapsed": false
   },
   "id": "c57c06fc1d159514"
  },
  {
   "cell_type": "code",
   "execution_count": 286,
   "outputs": [
    {
     "data": {
      "text/plain": "     dest_name  count\n0          ATL    911\n1          ORD    550\n2          PEK    527\n3          LHR    524\n4          CDG    517\n...        ...    ...\n3359       OER      1\n3360       ESL      1\n3361       OGL      1\n3362       PES      1\n3363       GFN      1\n\n[3364 rows x 2 columns]",
      "text/html": "<div>\n<style scoped>\n    .dataframe tbody tr th:only-of-type {\n        vertical-align: middle;\n    }\n\n    .dataframe tbody tr th {\n        vertical-align: top;\n    }\n\n    .dataframe thead th {\n        text-align: right;\n    }\n</style>\n<table border=\"1\" class=\"dataframe\">\n  <thead>\n    <tr style=\"text-align: right;\">\n      <th></th>\n      <th>dest_name</th>\n      <th>count</th>\n    </tr>\n  </thead>\n  <tbody>\n    <tr>\n      <th>0</th>\n      <td>ATL</td>\n      <td>911</td>\n    </tr>\n    <tr>\n      <th>1</th>\n      <td>ORD</td>\n      <td>550</td>\n    </tr>\n    <tr>\n      <th>2</th>\n      <td>PEK</td>\n      <td>527</td>\n    </tr>\n    <tr>\n      <th>3</th>\n      <td>LHR</td>\n      <td>524</td>\n    </tr>\n    <tr>\n      <th>4</th>\n      <td>CDG</td>\n      <td>517</td>\n    </tr>\n    <tr>\n      <th>...</th>\n      <td>...</td>\n      <td>...</td>\n    </tr>\n    <tr>\n      <th>3359</th>\n      <td>OER</td>\n      <td>1</td>\n    </tr>\n    <tr>\n      <th>3360</th>\n      <td>ESL</td>\n      <td>1</td>\n    </tr>\n    <tr>\n      <th>3361</th>\n      <td>OGL</td>\n      <td>1</td>\n    </tr>\n    <tr>\n      <th>3362</th>\n      <td>PES</td>\n      <td>1</td>\n    </tr>\n    <tr>\n      <th>3363</th>\n      <td>GFN</td>\n      <td>1</td>\n    </tr>\n  </tbody>\n</table>\n<p>3364 rows × 2 columns</p>\n</div>"
     },
     "execution_count": 286,
     "metadata": {},
     "output_type": "execute_result"
    }
   ],
   "source": [
    "dest_count = data[\"dest_name\"].value_counts().reset_index()\n",
    "dest_count.columns = [\"dest_name\", \"count\"]\n",
    "dest_count"
   ],
   "metadata": {
    "collapsed": false,
    "ExecuteTime": {
     "end_time": "2023-10-12T00:27:15.407056600Z",
     "start_time": "2023-10-12T00:27:15.391240200Z"
    }
   },
   "id": "f920765b352c6c49"
  },
  {
   "cell_type": "markdown",
   "source": [
    "---\n",
    "# Visualization (Part I)\n",
    "---"
   ],
   "metadata": {
    "collapsed": false
   },
   "id": "463ccd71dc47ea6a"
  },
  {
   "cell_type": "markdown",
   "source": [
    "### Create a function to visualiza data in a map"
   ],
   "metadata": {
    "collapsed": false
   },
   "id": "9e9a1c23c6745d0d"
  },
  {
   "cell_type": "code",
   "execution_count": 287,
   "outputs": [],
   "source": [
    "def create_visualization(df, filename):\n",
    "    vis = folium.Map(location=[0,0], zoom_start=3, tiles=\"cartodb dark_matter\")\n",
    "    for _, route in df.iterrows():\n",
    "        folium.PolyLine([(route[\"src_latitude\"], route[\"src_longitude\"]), (route[\"dest_latitude\"], route[\"dest_longitude\"])], color=\"cyan\", weight=0.1, opacity=0.5).add_to(vis)\n",
    "    vis.save(filename)"
   ],
   "metadata": {
    "collapsed": false,
    "ExecuteTime": {
     "end_time": "2023-10-12T00:27:15.424665300Z",
     "start_time": "2023-10-12T00:27:15.407056600Z"
    }
   },
   "id": "85188ca4a5fc402f"
  },
  {
   "cell_type": "markdown",
   "source": [
    "### Visualize all the airlines data in one map"
   ],
   "metadata": {
    "collapsed": false
   },
   "id": "af7ccf45f4694089"
  },
  {
   "cell_type": "code",
   "execution_count": 288,
   "outputs": [],
   "source": [
    "create_visualization(data, \"visualization_part_1.html\")"
   ],
   "metadata": {
    "collapsed": false,
    "ExecuteTime": {
     "end_time": "2023-10-12T00:27:47.700343700Z",
     "start_time": "2023-10-12T00:27:15.410266100Z"
    }
   },
   "id": "25d745479d9fe82a"
  },
  {
   "cell_type": "markdown",
   "source": [
    "---\n",
    "# Node Analysis (Part I)\n",
    "---"
   ],
   "metadata": {
    "collapsed": false
   },
   "id": "bbf2e32c43c3942b"
  },
  {
   "cell_type": "markdown",
   "source": [
    "### Create the"
   ],
   "metadata": {
    "collapsed": false
   },
   "id": "33b6c484921d3f36"
  },
  {
   "cell_type": "code",
   "execution_count": 289,
   "outputs": [],
   "source": [
    "G = nx.Graph()\n",
    "\n",
    "for _, row in data.iterrows():\n",
    "    G.add_edge(row[\"src_name\"], row[\"dest_name\"])"
   ],
   "metadata": {
    "collapsed": false,
    "ExecuteTime": {
     "end_time": "2023-10-12T00:27:51.157743700Z",
     "start_time": "2023-10-12T00:27:47.703336600Z"
    }
   },
   "id": "199f9ac518fd2d3d"
  }
 ],
 "metadata": {
  "kernelspec": {
   "display_name": "Python 3",
   "language": "python",
   "name": "python3"
  },
  "language_info": {
   "codemirror_mode": {
    "name": "ipython",
    "version": 2
   },
   "file_extension": ".py",
   "mimetype": "text/x-python",
   "name": "python",
   "nbconvert_exporter": "python",
   "pygments_lexer": "ipython2",
   "version": "2.7.6"
  }
 },
 "nbformat": 4,
 "nbformat_minor": 5
}
